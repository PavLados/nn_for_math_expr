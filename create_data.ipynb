{
 "cells": [
  {
   "cell_type": "code",
   "execution_count": 30,
   "id": "4e2e25ba-a0eb-42a9-a9fe-7a402a60ba06",
   "metadata": {},
   "outputs": [],
   "source": [
    "import sympy\n",
    "import numpy as np\n",
    "import pandas as pd\n",
    "import matplotlib.pyplot as plt\n",
    "\n",
    "from sympy import symbols, Eq, solve"
   ]
  },
  {
   "cell_type": "markdown",
   "id": "52a0cd5a-0332-4f9c-8ad0-8b20036c626a",
   "metadata": {},
   "source": []
  },
  {
   "cell_type": "code",
   "execution_count": null,
   "id": "2834ebbe-41a5-4eba-9f93-fd59d4810950",
   "metadata": {},
   "outputs": [],
   "source": []
  },
  {
   "cell_type": "markdown",
   "id": "658bc3f4-611a-4f04-9f00-0b6b0a386434",
   "metadata": {},
   "source": [
    "## Построение абстрактного синтаксического дерева"
   ]
  },
  {
   "cell_type": "code",
   "execution_count": 31,
   "id": "1c036725-1fa2-4582-9a5f-e671a2cb7979",
   "metadata": {},
   "outputs": [],
   "source": [
    "# сделать вероятности как в выпускном проекте\n",
    "\n",
    "\n",
    "class Node:\n",
    "    def __init__(self, node_type, value=None, operator=None):\n",
    "        self.node_type = node_type\n",
    "        self.value = value\n",
    "        self.operator = operator\n",
    "        self.children = []\n",
    "\n",
    "#Генерация числа от 1 до 10\n",
    "def generate_literal():\n",
    "    return Node('literal', value=np.random.randint(0, 10))\n",
    "\n",
    "#Скобки\n",
    "def generate_grouping(depth):\n",
    "    node = Node('grouping')\n",
    "    node.children.append(generate_expression(depth - 1))\n",
    "    return node\n",
    "\n",
    "#Унарная операция\n",
    "def generate_unary(depth):\n",
    "    node = Node('unary', operator=np.random.choice(['-']))\n",
    "    node.children.append(generate_expression(depth - 1))\n",
    "    return node\n",
    "\n",
    "def generate_binary(depth):\n",
    "    node = Node('binary', operator=np.random.choice(['+', '-', '*']))\n",
    "    node.children.append(generate_expression(depth - 1))\n",
    "    node.children.append(generate_expression(depth - 1))\n",
    "    return node\n",
    "\n",
    "#Генерация выражения. Числа, скобки и операции появляются \n",
    "#с разной вероятностью\n",
    "def generate_expression(depth):\n",
    "    \n",
    "    numbers = [1, 2, 3, 4]\n",
    "    \n",
    "    probabilities = np.array([0.3, 1, 10, 2], dtype=float)\n",
    "    probabilities /= probabilities.sum()\n",
    "    rand_num = np.random.choice(numbers, p=probabilities)\n",
    "\n",
    "    if depth == 0 or rand_num == 1:\n",
    "        return generate_literal()\n",
    "    elif rand_num == 2:\n",
    "        return generate_unary(depth)\n",
    "    elif rand_num == 3:\n",
    "        return generate_binary(depth)\n",
    "    else:\n",
    "        return generate_grouping(depth)\n",
    "\n",
    "#Вывод строки. Рекурсивный обход дерева в глубину\n",
    "def tree_to_string(node):\n",
    "    if node.node_type == 'literal':\n",
    "        return str(node.value)\n",
    "    elif node.node_type == 'grouping':\n",
    "        return f\"({tree_to_string(node.children[0])})\"\n",
    "    elif node.node_type == 'unary':\n",
    "        return f\"({node.operator}{tree_to_string(node.children[0])})\"\n",
    "    elif node.node_type == 'binary':\n",
    "        return f\"{tree_to_string(node.children[0])} {node.operator} {tree_to_string(node.children[1])}\"\n"
   ]
  },
  {
   "cell_type": "code",
   "execution_count": 32,
   "id": "a711ef3f-724a-43cd-b825-53bfc0613ee5",
   "metadata": {},
   "outputs": [
    {
     "data": {
      "text/plain": [
       "'((8)) + 4 + 6 - 5'"
      ]
     },
     "execution_count": 32,
     "metadata": {},
     "output_type": "execute_result"
    }
   ],
   "source": [
    "math_tree = generate_expression(depth=np.random.randint(2, 4))\n",
    "math_string = tree_to_string(math_tree)\n",
    "math_string"
   ]
  },
  {
   "cell_type": "markdown",
   "id": "abaad769-7080-4dc6-a00d-32776eb7c96c",
   "metadata": {},
   "source": [
    "## Создание датасета алгебраических выражений"
   ]
  },
  {
   "cell_type": "code",
   "execution_count": 33,
   "id": "0cd926bf-0d52-4536-aad2-577099adac2b",
   "metadata": {},
   "outputs": [
    {
     "name": "stdout",
     "output_type": "stream",
     "text": [
      "1000\n",
      "2000\n",
      "3000\n",
      "4000\n",
      "5000\n",
      "6000\n",
      "7000\n",
      "8000\n",
      "9000\n",
      "10000\n"
     ]
    }
   ],
   "source": [
    "x = symbols('x')\n",
    "\n",
    "data_set = set()\n",
    "data = []\n",
    "number_of_expr = 10000\n",
    "\n",
    "while len(data) < number_of_expr:\n",
    "    math_tree = generate_expression(depth=np.random.randint(1, 5))\n",
    "    math_string = tree_to_string(math_tree)\n",
    "\n",
    "    solution = ''\n",
    "    if math_string:\n",
    "        try:\n",
    "            equation = Eq(eval(math_string), x)\n",
    "            solution = solve(equation, x)\n",
    "        except ZeroDivisionError:\n",
    "            solution = 'ZeroDivision'\n",
    "            continue\n",
    "        \n",
    "        formatted_solution = f'{solution[0]:.5f}' if solution else None\n",
    "        rounded_solution = formatted_solution.rstrip('0').rstrip('.') if '.' in formatted_solution else formatted_solution\n",
    "\n",
    "    if math_string not in data_set:\n",
    "        data_set.add(math_string)\n",
    "        data.append({'Math expression': math_string, 'Result': rounded_solution})\n",
    "        \n",
    "        if len(data)%1000 == 0:\n",
    "            print(len(data))"
   ]
  },
  {
   "cell_type": "code",
   "execution_count": 34,
   "id": "ad3097e6-626d-45ab-ba36-10a898e480db",
   "metadata": {},
   "outputs": [
    {
     "data": {
      "text/html": [
       "<div>\n",
       "<style scoped>\n",
       "    .dataframe tbody tr th:only-of-type {\n",
       "        vertical-align: middle;\n",
       "    }\n",
       "\n",
       "    .dataframe tbody tr th {\n",
       "        vertical-align: top;\n",
       "    }\n",
       "\n",
       "    .dataframe thead th {\n",
       "        text-align: right;\n",
       "    }\n",
       "</style>\n",
       "<table border=\"1\" class=\"dataframe\">\n",
       "  <thead>\n",
       "    <tr style=\"text-align: right;\">\n",
       "      <th></th>\n",
       "      <th>Math expression</th>\n",
       "      <th>Result</th>\n",
       "    </tr>\n",
       "  </thead>\n",
       "  <tbody>\n",
       "    <tr>\n",
       "      <th>0</th>\n",
       "      <td>(2 * 7 + 7 + 4) + 6 + 6 - (7) - 4 - 2 * 3 - 6</td>\n",
       "      <td>14</td>\n",
       "    </tr>\n",
       "    <tr>\n",
       "      <th>1</th>\n",
       "      <td>3 + 9</td>\n",
       "      <td>12</td>\n",
       "    </tr>\n",
       "    <tr>\n",
       "      <th>2</th>\n",
       "      <td>5 + 5 + 6 * 5 - 7 + (-(0)) * 2 * 7 + 8 * 6</td>\n",
       "      <td>81</td>\n",
       "    </tr>\n",
       "    <tr>\n",
       "      <th>3</th>\n",
       "      <td>(2) + 9 + 6 * 2 + 7 - (-3) * 8 + 4 * 6 * 6 + 6...</td>\n",
       "      <td>220</td>\n",
       "    </tr>\n",
       "    <tr>\n",
       "      <th>4</th>\n",
       "      <td>7 * 9</td>\n",
       "      <td>63</td>\n",
       "    </tr>\n",
       "    <tr>\n",
       "      <th>5</th>\n",
       "      <td>5 + 8</td>\n",
       "      <td>13</td>\n",
       "    </tr>\n",
       "    <tr>\n",
       "      <th>6</th>\n",
       "      <td>(8 - 6) + (-8) - 7 + 9</td>\n",
       "      <td>-4</td>\n",
       "    </tr>\n",
       "    <tr>\n",
       "      <th>7</th>\n",
       "      <td>6 - 8 + 4 * 0</td>\n",
       "      <td>-2</td>\n",
       "    </tr>\n",
       "    <tr>\n",
       "      <th>8</th>\n",
       "      <td>7 + 9</td>\n",
       "      <td>16</td>\n",
       "    </tr>\n",
       "    <tr>\n",
       "      <th>9</th>\n",
       "      <td>2 * 3 - 2 - 6 * (-(3)) * 8 * 5 - (4) - (3) + 1...</td>\n",
       "      <td>711</td>\n",
       "    </tr>\n",
       "  </tbody>\n",
       "</table>\n",
       "</div>"
      ],
      "text/plain": [
       "                                     Math expression Result\n",
       "0      (2 * 7 + 7 + 4) + 6 + 6 - (7) - 4 - 2 * 3 - 6     14\n",
       "1                                              3 + 9     12\n",
       "2         5 + 5 + 6 * 5 - 7 + (-(0)) * 2 * 7 + 8 * 6     81\n",
       "3  (2) + 9 + 6 * 2 + 7 - (-3) * 8 + 4 * 6 * 6 + 6...    220\n",
       "4                                              7 * 9     63\n",
       "5                                              5 + 8     13\n",
       "6                             (8 - 6) + (-8) - 7 + 9     -4\n",
       "7                                      6 - 8 + 4 * 0     -2\n",
       "8                                              7 + 9     16\n",
       "9  2 * 3 - 2 - 6 * (-(3)) * 8 * 5 - (4) - (3) + 1...    711"
      ]
     },
     "execution_count": 34,
     "metadata": {},
     "output_type": "execute_result"
    }
   ],
   "source": [
    "df = pd.DataFrame(data)\n",
    "df.head(10)"
   ]
  },
  {
   "cell_type": "code",
   "execution_count": 37,
   "id": "573d53d2-7e5a-4086-84de-5dbc11b12603",
   "metadata": {},
   "outputs": [
    {
     "data": {
      "image/png": "[encoded data removed]",
      "text/plain": [
       "<Figure size 640x480 with 1 Axes>"
      ]
     },
     "metadata": {},
     "output_type": "display_data"
    }
   ],
   "source": [
    "expr_lengths = df['Math expression'].apply(len)\n",
    "\n",
    "plt.hist(expr_lengths, bins='auto', alpha=0.7, color='blue', edgecolor='black')\n",
    "plt.title('Распределение длин выражений')\n",
    "plt.xlabel('Длина слова')\n",
    "plt.ylabel('Количество')\n",
    "plt.show()"
   ]
  },
  {
   "cell_type": "code",
   "execution_count": 47,
   "id": "1cd578c0-3a92-473b-b69b-931c242bc999",
   "metadata": {},
   "outputs": [],
   "source": [
    "df['Result'] = pd.to_numeric(df['Result'], errors='coerce')"
   ]
  },
  {
   "cell_type": "code",
   "execution_count": 65,
   "id": "7037c312-5b1d-4996-97cc-abafae4d4653",
   "metadata": {},
   "outputs": [
    {
     "name": "stdout",
     "output_type": "stream",
     "text": [
      "Минимальное значение выражения: -1666971\n",
      "Максимальное значение выражения: 118422\n",
      "Величина 0.95 квантиля: 170.0\n"
     ]
    }
   ],
   "source": [
    "print(f'Минимальное значение выражения: {df['Result'].min()}')\n",
    "print(f'Максимальное значение выражения: {df['Result'].max()}')\n",
    "print(f'Величина 0.95 квантиля: {df['Result'].quantile(0.95)}')"
   ]
  },
  {
   "cell_type": "code",
   "execution_count": 67,
   "id": "21238cb0-4b09-4736-b9f0-ca731ca642f5",
   "metadata": {},
   "outputs": [
    {
     "data": {
      "image/png": "[encoded data removed]",
      "text/plain": [
       "<Figure size 1000x600 with 1 Axes>"
      ]
     },
     "metadata": {},
     "output_type": "display_data"
    }
   ],
   "source": [
    "plt.figure(figsize=(10, 6))\n",
    "plt.hist(df['Result'][(df['Result'] > -170) & (df['Result'] < 170)], bins='auto', alpha=0.7, color='blue', edgecolor='black')\n",
    "plt.title('Распределение ответов на выражения')\n",
    "plt.xlabel('Значение ответа')\n",
    "plt.ylabel('Количество слов')\n",
    "\n",
    "plt.show()"
   ]
  },
  {
   "cell_type": "code",
   "execution_count": 68,
   "id": "ed168229-3f01-48b8-b328-0e74d6d8f27d",
   "metadata": {},
   "outputs": [],
   "source": [
    "simple_mat_data = df.drop(df[(df['Result'] > 170) | (df['Result'] < -170)].index)"
   ]
  },
  {
   "cell_type": "code",
   "execution_count": 72,
   "id": "f6711a24-02ca-48e6-aff6-3e911d9bdf73",
   "metadata": {},
   "outputs": [],
   "source": [
    "#simple_mat_data.to_csv('simple_mat_expr.csv', sep = '\\t', index = False)"
   ]
  },
  {
   "cell_type": "markdown",
   "id": "f14e3705-c8c6-4014-9e08-e74e4159a2fa",
   "metadata": {},
   "source": [
    "## Вычисление производных с помощью sympy"
   ]
  },
  {
   "cell_type": "code",
   "execution_count": 6,
   "id": "2c67de80-6ce4-4e0e-88da-51a1c3434be5",
   "metadata": {},
   "outputs": [
    {
     "name": "stdout",
     "output_type": "stream",
     "text": [
      "Исходное выражение: x**2 + 3*x + 2\n",
      "Производная: 2*x + 3\n"
     ]
    }
   ],
   "source": [
    "x = sympy.symbols('x')\n",
    "expression = x**2 + 3*x + 2\n",
    "derivative = sympy.diff(expression, x)\n",
    "derivative_str = str(derivative)\n",
    "\n",
    "print(\"Исходное выражение:\", expression)\n",
    "print(\"Производная:\", derivative_str)"
   ]
  },
  {
   "cell_type": "code",
   "execution_count": 7,
   "id": "ab22e7e6-6d4e-402d-bd4c-6f01512e5068",
   "metadata": {},
   "outputs": [
    {
     "name": "stdout",
     "output_type": "stream",
     "text": [
      "Исходное выражение: sqrt(cos(cos(x**2)))\n",
      "Производная: x*sin(x**2)*sin(cos(x**2))/sqrt(cos(cos(x**2)))\n",
      "Значение производной в точке 2: 2*sin(4)*sin(cos(4))/sqrt(cos(cos(4)))\n"
     ]
    }
   ],
   "source": [
    "expression = sympy.sqrt(sympy.cos(sympy.cos(x**2)))\n",
    "derivative = sympy.diff(expression, x)\n",
    "point = 2\n",
    "derivative_at_point = derivative.subs(x, point)\n",
    "\n",
    "print(f\"Исходное выражение: {expression}\")\n",
    "print(f\"Производная: {derivative}\")\n",
    "print(f\"Значение производной в точке {point}: {derivative_at_point}\")"
   ]
  },
  {
   "cell_type": "markdown",
   "id": "1dad02c8-a2a7-484b-9ce3-0f326512671f",
   "metadata": {},
   "source": [
    "## Генерация датасета производных"
   ]
  },
  {
   "cell_type": "code",
   "execution_count": 114,
   "id": "7b4be6de-cad6-47bd-9bb0-138fefcebf44",
   "metadata": {},
   "outputs": [],
   "source": [
    "class Node:\n",
    "    def __init__(self, node_type, value=None, operator=None):\n",
    "        self.node_type = node_type\n",
    "        self.value = value\n",
    "        self.operator = operator\n",
    "        self.children = []\n",
    "\n",
    "def generate_literal():\n",
    "\n",
    "    rand_num = np.random.rand()\n",
    "    if (rand_num < 0.2):\n",
    "        return Node('literal', value=np.random.randint(0, 10))\n",
    "    else:\n",
    "        return Node('literal', value='x')\n",
    "\n",
    "def generate_grouping(depth):\n",
    "    node = Node('grouping')\n",
    "    node.children.append(generate_expression(depth - 1))\n",
    "    return node\n",
    "\n",
    "def generate_function(depth):\n",
    "    node = Node('func', operator=np.random.choice(['sin', 'cos','ln','exp','sqrt']))\n",
    "    node.children.append(generate_expression(depth - 1))\n",
    "    return node\n",
    "    \n",
    "def generate_unary(depth):\n",
    "    node = Node('unary', operator=np.random.choice(['-']))\n",
    "    node.children.append(generate_expression(depth - 1))\n",
    "    return node\n",
    "\n",
    "def generate_binary(depth):\n",
    "    node = Node('binary', operator=np.random.choice(['+', '-', '*', '/']))\n",
    "    node.children.append(generate_expression(depth - 1))\n",
    "    node.children.append(generate_expression(depth - 1))\n",
    "    return node\n",
    "\n",
    "def generate_expression(depth):\n",
    "    numbers = [1, 2, 3, 4, 5]\n",
    "    \n",
    "    probabilities = np.array([0.01, 0.5, 0.8, 0.6, 0.1], dtype=float)\n",
    "    probabilities /= probabilities.sum()\n",
    "    rand_num = np.random.choice(numbers, p=probabilities)\n",
    "    \n",
    "    if depth == 0 or rand_num == 1:\n",
    "        return generate_literal()\n",
    "    elif rand_num == 2:\n",
    "        return generate_unary(depth)\n",
    "    elif rand_num == 3:\n",
    "        return generate_binary(depth)\n",
    "    elif rand_num == 4:\n",
    "        return generate_function(depth)\n",
    "    else:\n",
    "        return generate_grouping(depth)\n",
    "\n",
    "def tree_to_string(node):\n",
    "\n",
    "    if node.node_type == 'literal':\n",
    "        return str(node.value)\n",
    "    elif node.node_type == 'grouping':\n",
    "        return f\"({tree_to_string(node.children[0])})\"\n",
    "    elif node.node_type == 'unary':\n",
    "        return f\"{node.operator}{tree_to_string(node.children[0])}\"\n",
    "    elif node.node_type == 'func':\n",
    "        return f\"{node.operator}({tree_to_string(node.children[0])})\"\n",
    "    elif node.node_type == 'binary':\n",
    "        return f\"{tree_to_string(node.children[0])} {node.operator} {tree_to_string(node.children[1])}\"\n",
    "\n",
    "\n",
    "def generate_and_differentiate(min_depth = 1, max_depth = 5):\n",
    "    math_tree = generate_expression(depth=np.random.randint(min_depth, max_depth))\n",
    "    math_string = tree_to_string(math_tree)\n",
    "\n",
    "    derivative = sympy.diff(math_string, x)\n",
    "    if 'zoo' not in str(derivative):\n",
    "        return {'Math expression': math_string, 'Derivative': str(derivative)}\n",
    "    else:\n",
    "        return {'Math expression': math_string, 'Derivative': 'ZeroDivision'}\n"
   ]
  },
  {
   "cell_type": "code",
   "execution_count": 115,
   "id": "8e94f0c1-a0f3-444a-a784-8e68f22c5c03",
   "metadata": {},
   "outputs": [
    {
     "name": "stdout",
     "output_type": "stream",
     "text": [
      "Исходное выражение: cos(-exp(7))\n",
      "Производная: 0\n"
     ]
    }
   ],
   "source": [
    "# Пример выражения\n",
    "math_tree = generate_expression(depth=np.random.randint(1, 4))\n",
    "math_string = tree_to_string(math_tree)\n",
    "derivative = sympy.diff(math_string, x)\n",
    "derivative_str = str(derivative)\n",
    "\n",
    "print(\"Исходное выражение:\", math_string)\n",
    "print(\"Производная:\", derivative_str)"
   ]
  },
  {
   "cell_type": "code",
   "execution_count": 116,
   "id": "c98a1fd9-3c36-4615-89c3-9144e0a1fe1b",
   "metadata": {},
   "outputs": [],
   "source": [
    "x = symbols('x')\n",
    "\n",
    "data_set = set()\n",
    "data = []\n",
    "num_of_expr = 15000"
   ]
  },
  {
   "cell_type": "code",
   "execution_count": 126,
   "id": "a9548b5f-6f41-4dd8-9856-d29d0b670e3c",
   "metadata": {},
   "outputs": [],
   "source": [
    "def create_diff_dataset(min_depth = 1, max_depth = 5, num_of_expr = 100, data = None):\n",
    "    \n",
    "    if (not data):\n",
    "        data = []\n",
    "        \n",
    "    data_set = set(data)\n",
    "    \n",
    "    while len(data) < num_of_expr:\n",
    "        result = generate_and_differentiate(min_depth, max_depth)\n",
    "        math_tree_string = result['Math expression']\n",
    "    \n",
    "        if math_tree_string not in data_set:\n",
    "            data_set.add(math_tree_string)\n",
    "            data.append(result)\n",
    "            \n",
    "            if len(data)%1000 == 0:\n",
    "                print(len(data))\n",
    "    return data\n"
   ]
  },
  {
   "cell_type": "code",
   "execution_count": 120,
   "id": "9f7920d6-2996-447b-af49-bd4e2ef602f1",
   "metadata": {},
   "outputs": [
    {
     "name": "stdout",
     "output_type": "stream",
     "text": [
      "500\n",
      "1000\n",
      "1500\n",
      "2000\n",
      "2500\n",
      "3000\n",
      "3500\n",
      "4000\n",
      "4500\n",
      "5000\n",
      "5500\n",
      "6000\n",
      "6500\n",
      "7000\n",
      "7500\n",
      "8000\n",
      "8500\n",
      "9000\n",
      "9500\n",
      "10000\n",
      "10500\n",
      "11000\n",
      "11500\n",
      "12000\n",
      "12500\n",
      "13000\n",
      "13500\n",
      "14000\n",
      "14500\n",
      "15000\n"
     ]
    },
    {
     "data": {
      "text/html": [
       "<div>\n",
       "<style scoped>\n",
       "    .dataframe tbody tr th:only-of-type {\n",
       "        vertical-align: middle;\n",
       "    }\n",
       "\n",
       "    .dataframe tbody tr th {\n",
       "        vertical-align: top;\n",
       "    }\n",
       "\n",
       "    .dataframe thead th {\n",
       "        text-align: right;\n",
       "    }\n",
       "</style>\n",
       "<table border=\"1\" class=\"dataframe\">\n",
       "  <thead>\n",
       "    <tr style=\"text-align: right;\">\n",
       "      <th></th>\n",
       "    </tr>\n",
       "  </thead>\n",
       "  <tbody>\n",
       "  </tbody>\n",
       "</table>\n",
       "</div>"
      ],
      "text/plain": [
       "Empty DataFrame\n",
       "Columns: []\n",
       "Index: []"
      ]
     },
     "execution_count": 120,
     "metadata": {},
     "output_type": "execute_result"
    }
   ],
   "source": [
    "data_diff = create_diff_dataset(min_depth = 1, max_depth = 10, num_of_expr = 15000, data = None)"
   ]
  },
  {
   "cell_type": "code",
   "execution_count": 122,
   "id": "7960f3e5-5389-45cb-a375-c0a8e3d71eab",
   "metadata": {},
   "outputs": [
    {
     "data": {
      "text/html": [
       "<div>\n",
       "<style scoped>\n",
       "    .dataframe tbody tr th:only-of-type {\n",
       "        vertical-align: middle;\n",
       "    }\n",
       "\n",
       "    .dataframe tbody tr th {\n",
       "        vertical-align: top;\n",
       "    }\n",
       "\n",
       "    .dataframe thead th {\n",
       "        text-align: right;\n",
       "    }\n",
       "</style>\n",
       "<table border=\"1\" class=\"dataframe\">\n",
       "  <thead>\n",
       "    <tr style=\"text-align: right;\">\n",
       "      <th></th>\n",
       "      <th>Math expression</th>\n",
       "      <th>Derivative</th>\n",
       "    </tr>\n",
       "  </thead>\n",
       "  <tbody>\n",
       "    <tr>\n",
       "      <th>0</th>\n",
       "      <td>-ln(x) + exp(x)</td>\n",
       "      <td>exp(x) - 1/x</td>\n",
       "    </tr>\n",
       "    <tr>\n",
       "      <th>1</th>\n",
       "      <td>cos(sqrt(--cos(x) + (sqrt(x)) + --(-6)) * sqrt...</td>\n",
       "      <td>-((-sin(x)/2 + 1/(4*sqrt(x)))*sqrt(exp(x**2 + ...</td>\n",
       "    </tr>\n",
       "    <tr>\n",
       "      <th>2</th>\n",
       "      <td>-(-1)</td>\n",
       "      <td>0</td>\n",
       "    </tr>\n",
       "    <tr>\n",
       "      <th>3</th>\n",
       "      <td>-sqrt(-sqrt(cos(-(-x / -x))))</td>\n",
       "      <td>0</td>\n",
       "    </tr>\n",
       "    <tr>\n",
       "      <th>4</th>\n",
       "      <td>x / x</td>\n",
       "      <td>0</td>\n",
       "    </tr>\n",
       "  </tbody>\n",
       "</table>\n",
       "</div>"
      ],
      "text/plain": [
       "                                     Math expression  \\\n",
       "0                                    -ln(x) + exp(x)   \n",
       "1  cos(sqrt(--cos(x) + (sqrt(x)) + --(-6)) * sqrt...   \n",
       "2                                              -(-1)   \n",
       "3                      -sqrt(-sqrt(cos(-(-x / -x))))   \n",
       "4                                              x / x   \n",
       "\n",
       "                                          Derivative  \n",
       "0                                       exp(x) - 1/x  \n",
       "1  -((-sin(x)/2 + 1/(4*sqrt(x)))*sqrt(exp(x**2 + ...  \n",
       "2                                                  0  \n",
       "3                                                  0  \n",
       "4                                                  0  "
      ]
     },
     "execution_count": 122,
     "metadata": {},
     "output_type": "execute_result"
    }
   ],
   "source": [
    "diff_df = pd.DataFrame(data_diff)\n",
    "diff_df.head()"
   ]
  },
  {
   "cell_type": "code",
   "execution_count": 123,
   "id": "aa6a0b04-37cb-478f-9d60-d2bc68b217f5",
   "metadata": {},
   "outputs": [
    {
     "data": {
      "image/png": "[encoded data removed]",
      "text/plain": [
       "<Figure size 640x480 with 1 Axes>"
      ]
     },
     "metadata": {},
     "output_type": "display_data"
    }
   ],
   "source": [
    "expr_lengths = diff_df['Math expression'].apply(len)\n",
    "\n",
    "plt.hist(expr_lengths, bins='auto', alpha=0.7, color='blue', edgecolor='black')\n",
    "plt.title('Распределение длины выражений')\n",
    "plt.xlabel('Длина выражения')\n",
    "plt.ylabel('Количество выражений')\n",
    "plt.show()"
   ]
  },
  {
   "cell_type": "markdown",
   "id": "3113df94-21e4-402f-8717-a9e007c5ff3d",
   "metadata": {},
   "source": [
    "Распределение похоже на экспоненциальное, но длины выражений в основном слишком велики, сгенерируем новый набор данных с меньшей глубиной деревьев"
   ]
  },
  {
   "cell_type": "code",
   "execution_count": 183,
   "id": "f6942a92-bcbd-495e-9147-40be6c36e762",
   "metadata": {},
   "outputs": [
    {
     "name": "stdout",
     "output_type": "stream",
     "text": [
      "1000\n",
      "2000\n",
      "3000\n",
      "4000\n",
      "5000\n",
      "6000\n",
      "7000\n",
      "8000\n",
      "9000\n",
      "10000\n",
      "11000\n",
      "12000\n",
      "13000\n",
      "14000\n",
      "15000\n"
     ]
    },
    {
     "data": {
      "text/html": [
       "<div>\n",
       "<style scoped>\n",
       "    .dataframe tbody tr th:only-of-type {\n",
       "        vertical-align: middle;\n",
       "    }\n",
       "\n",
       "    .dataframe tbody tr th {\n",
       "        vertical-align: top;\n",
       "    }\n",
       "\n",
       "    .dataframe thead th {\n",
       "        text-align: right;\n",
       "    }\n",
       "</style>\n",
       "<table border=\"1\" class=\"dataframe\">\n",
       "  <thead>\n",
       "    <tr style=\"text-align: right;\">\n",
       "      <th></th>\n",
       "      <th>Math expression</th>\n",
       "      <th>Derivative</th>\n",
       "    </tr>\n",
       "  </thead>\n",
       "  <tbody>\n",
       "    <tr>\n",
       "      <th>0</th>\n",
       "      <td>sin(x + x)</td>\n",
       "      <td>2*cos(2*x)</td>\n",
       "    </tr>\n",
       "    <tr>\n",
       "      <th>1</th>\n",
       "      <td>(x)</td>\n",
       "      <td>1</td>\n",
       "    </tr>\n",
       "    <tr>\n",
       "      <th>2</th>\n",
       "      <td>sin(exp((sqrt(x))))</td>\n",
       "      <td>exp(sqrt(x))*cos(exp(sqrt(x)))/(2*sqrt(x))</td>\n",
       "    </tr>\n",
       "    <tr>\n",
       "      <th>3</th>\n",
       "      <td>exp(x) + sin(x)</td>\n",
       "      <td>exp(x) + cos(x)</td>\n",
       "    </tr>\n",
       "    <tr>\n",
       "      <th>4</th>\n",
       "      <td>ln(sqrt(x / x))</td>\n",
       "      <td>0</td>\n",
       "    </tr>\n",
       "  </tbody>\n",
       "</table>\n",
       "</div>"
      ],
      "text/plain": [
       "       Math expression                                  Derivative\n",
       "0           sin(x + x)                                  2*cos(2*x)\n",
       "1                  (x)                                           1\n",
       "2  sin(exp((sqrt(x))))  exp(sqrt(x))*cos(exp(sqrt(x)))/(2*sqrt(x))\n",
       "3      exp(x) + sin(x)                             exp(x) + cos(x)\n",
       "4      ln(sqrt(x / x))                                           0"
      ]
     },
     "execution_count": 183,
     "metadata": {},
     "output_type": "execute_result"
    }
   ],
   "source": [
    "data_diff = create_diff_dataset(min_depth = 1, max_depth = 5, num_of_expr = 15000, data = None)\n",
    "diff_df = pd.DataFrame(data_diff)\n",
    "diff_df.head()"
   ]
  },
  {
   "cell_type": "code",
   "execution_count": 184,
   "id": "cde5a58d-44e3-409d-b0b2-98d6287cdecd",
   "metadata": {},
   "outputs": [
    {
     "data": {
      "image/png": "[encoded data removed]",
      "text/plain": [
       "<Figure size 640x480 with 1 Axes>"
      ]
     },
     "metadata": {},
     "output_type": "display_data"
    }
   ],
   "source": [
    "expr_lengths = diff_df['Math expression'].apply(len)\n",
    "\n",
    "plt.hist(expr_lengths, bins='auto', alpha=0.7, color='blue', edgecolor='black')\n",
    "plt.title('Распределение длины выражений')\n",
    "plt.xlabel('Длина выражения')\n",
    "plt.ylabel('Количество выражений')\n",
    "plt.show()"
   ]
  },
  {
   "cell_type": "code",
   "execution_count": 185,
   "id": "91134bbc-b99c-42b4-808b-de1e57f83d44",
   "metadata": {},
   "outputs": [
    {
     "data": {
      "image/png": "[encoded data removed]",
      "text/plain": [
       "<Figure size 640x480 with 1 Axes>"
      ]
     },
     "metadata": {},
     "output_type": "display_data"
    }
   ],
   "source": [
    "expr_lengths = diff_df['Derivative'].apply(len)\n",
    "\n",
    "plt.hist(expr_lengths, bins='auto', alpha=0.7, color='blue', edgecolor='black')\n",
    "plt.title('Распределение длин производных')\n",
    "plt.xlabel('Длина выражения')\n",
    "plt.ylabel('Количество выражений')\n",
    "plt.show()"
   ]
  },
  {
   "cell_type": "code",
   "execution_count": 186,
   "id": "5f739b9d-79e1-47dd-b3d6-dcd36ae30ac4",
   "metadata": {},
   "outputs": [
    {
     "name": "stdout",
     "output_type": "stream",
     "text": [
      "Количество выражений с нулевой производной: 2415\n",
      "Количество выражений с единичной производной: 475\n",
      "Количество выражений с производной 2: 151\n",
      "Количество выражений с производной 3: 38\n",
      "Количество выражений с производной 4: 22\n",
      "Количество выражений с производной 5: 19\n"
     ]
    }
   ],
   "source": [
    "print(f'Количество выражений с производной 0: {diff_df['Derivative'][diff_df['Derivative'] == '0'].size}')\n",
    "print(f'Количество выражений с производной 1: {diff_df['Derivative'][diff_df['Derivative'] == '1'].size}')\n",
    "print(f'Количество выражений с производной 2: {diff_df['Derivative'][diff_df['Derivative'] == '2'].size}')\n",
    "print(f'Количество выражений с производной 3: {diff_df['Derivative'][diff_df['Derivative'] == '3'].size}')\n",
    "print(f'Количество выражений с производной 4: {diff_df['Derivative'][diff_df['Derivative'] == '4'].size}')\n",
    "print(f'Количество выражений с производной 5: {diff_df['Derivative'][diff_df['Derivative'] == '5'].size}')\n",
    "print(f'Количество выражений с производной 6: {diff_df['Derivative'][diff_df['Derivative'] == '6'].size}')\n",
    "print(f'Количество выражений с производной 7: {diff_df['Derivative'][diff_df['Derivative'] == '7'].size}')\n",
    "print(f'Количество выражений с производной 8: {diff_df['Derivative'][diff_df['Derivative'] == '8'].size}')\n",
    "print(f'Количество выражений с производной 9: {diff_df['Derivative'][diff_df['Derivative'] == '9'].size}')"
   ]
  },
  {
   "cell_type": "code",
   "execution_count": 187,
   "id": "dd4e73cc-f939-4eff-8c62-582120570cfb",
   "metadata": {},
   "outputs": [],
   "source": [
    "zeros_df = diff_df[diff_df['Derivative'] == '0']\n",
    "indices_to_remove_zeros = zeros_df.sample(n=2000, random_state=42).index\n",
    "\n",
    "ones_df = diff_df[diff_df['Derivative'] == '1']\n",
    "indices_to_remove_ones = ones_df.sample(n=200, random_state=42).index\n",
    "combined_indices = pd.Index(list(indices_to_remove_zeros) + list(indices_to_remove_ones))\n",
    "\n",
    "diff_df = diff_df.drop(combined_indices)"
   ]
  },
  {
   "cell_type": "code",
   "execution_count": 188,
   "id": "86dab184-3ccf-4c7c-8914-db7f43ed80c0",
   "metadata": {},
   "outputs": [
    {
     "data": {
      "image/png": "[encoded data removed]",
      "text/plain": [
       "<Figure size 640x480 with 1 Axes>"
      ]
     },
     "metadata": {},
     "output_type": "display_data"
    }
   ],
   "source": [
    "expr_lengths = diff_df['Derivative'].apply(len)\n",
    "\n",
    "plt.hist(expr_lengths, bins='auto', alpha=0.7, color='blue', edgecolor='black')\n",
    "plt.title('Распределение длин производных')\n",
    "plt.xlabel('Длина выражения')\n",
    "plt.ylabel('Количество выражений')\n",
    "plt.show()"
   ]
  },
  {
   "cell_type": "code",
   "execution_count": 190,
   "id": "b54def1d-7243-4425-a897-f7d53c235591",
   "metadata": {},
   "outputs": [
    {
     "name": "stdout",
     "output_type": "stream",
     "text": [
      "Количество выражений с производной 0: 415\n",
      "Количество выражений с производной 1: 275\n",
      "Количество выражений с производной 2: 151\n",
      "Количество выражений с производной 3: 38\n",
      "Количество выражений с производной 4: 22\n",
      "Количество выражений с производной 5: 19\n",
      "Количество выражений с производной 6: 15\n",
      "Количество выражений с производной 7: 17\n",
      "Количество выражений с производной 8: 20\n",
      "Количество выражений с производной 9: 17\n"
     ]
    }
   ],
   "source": [
    "print(f'Количество выражений с производной 0: {diff_df['Derivative'][diff_df['Derivative'] == '0'].size}')\n",
    "print(f'Количество выражений с производной 1: {diff_df['Derivative'][diff_df['Derivative'] == '1'].size}')\n",
    "print(f'Количество выражений с производной 2: {diff_df['Derivative'][diff_df['Derivative'] == '2'].size}')\n",
    "print(f'Количество выражений с производной 3: {diff_df['Derivative'][diff_df['Derivative'] == '3'].size}')\n",
    "print(f'Количество выражений с производной 4: {diff_df['Derivative'][diff_df['Derivative'] == '4'].size}')\n",
    "print(f'Количество выражений с производной 5: {diff_df['Derivative'][diff_df['Derivative'] == '5'].size}')\n",
    "print(f'Количество выражений с производной 6: {diff_df['Derivative'][diff_df['Derivative'] == '6'].size}')\n",
    "print(f'Количество выражений с производной 7: {diff_df['Derivative'][diff_df['Derivative'] == '7'].size}')\n",
    "print(f'Количество выражений с производной 8: {diff_df['Derivative'][diff_df['Derivative'] == '8'].size}')\n",
    "print(f'Количество выражений с производной 9: {diff_df['Derivative'][diff_df['Derivative'] == '9'].size}')"
   ]
  },
  {
   "cell_type": "code",
   "execution_count": 195,
   "id": "b73ffad5-be1c-4a6d-afdb-f0e692a79b3c",
   "metadata": {},
   "outputs": [
    {
     "name": "stdout",
     "output_type": "stream",
     "text": [
      "Величина 0.95 квантиля: 62.0\n"
     ]
    }
   ],
   "source": [
    "print(f'Величина 0.95 квантиля: {expr_lengths.quantile(0.95)}')"
   ]
  },
  {
   "cell_type": "code",
   "execution_count": 196,
   "id": "0010a112-cd59-42e4-b1a3-6458bfeaf1b6",
   "metadata": {},
   "outputs": [
    {
     "data": {
      "text/plain": [
       "12800"
      ]
     },
     "execution_count": 196,
     "metadata": {},
     "output_type": "execute_result"
    }
   ],
   "source": [
    "expr_lengths.size"
   ]
  },
  {
   "cell_type": "code",
   "execution_count": 199,
   "id": "c574c39f-b25d-46d3-9ed3-c8e35d97ef7d",
   "metadata": {},
   "outputs": [],
   "source": [
    "diff_df_cut = diff_df[expr_lengths < 62]"
   ]
  },
  {
   "cell_type": "code",
   "execution_count": 205,
   "id": "3b3094ff-daf7-4a68-9d05-ea6f15f0ce69",
   "metadata": {},
   "outputs": [
    {
     "data": {
      "text/plain": [
       "(12124, 2)"
      ]
     },
     "execution_count": 205,
     "metadata": {},
     "output_type": "execute_result"
    }
   ],
   "source": [
    "diff_df_cut.shape"
   ]
  },
  {
   "cell_type": "code",
   "execution_count": 207,
   "id": "71aa73e5-f796-4463-8b32-1f2281924e3a",
   "metadata": {},
   "outputs": [],
   "source": [
    "#diff_df_cut.to_csv('diff_data.csv', sep = '\\t', index = False)"
   ]
  },
  {
   "cell_type": "code",
   "execution_count": null,
   "id": "c406a253-5214-4598-80e1-01412381b500",
   "metadata": {},
   "outputs": [],
   "source": []
  }
 ],
 "metadata": {
  "kernelspec": {
   "display_name": "Python 3 (ipykernel)",
   "language": "python",
   "name": "python3"
  },
  "language_info": {
   "codemirror_mode": {
    "name": "ipython",
    "version": 3
   },
   "file_extension": ".py",
   "mimetype": "text/x-python",
   "name": "python",
   "nbconvert_exporter": "python",
   "pygments_lexer": "ipython3",
   "version": "3.12.3"
  }
 },
 "nbformat": 4,
 "nbformat_minor": 5
}
