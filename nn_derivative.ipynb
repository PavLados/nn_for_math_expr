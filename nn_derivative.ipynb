{
 "cells": [
  {
   "cell_type": "code",
   "execution_count": 1,
   "id": "0fae7f4d",
   "metadata": {},
   "outputs": [],
   "source": [
    "import tqdm\n",
    "import torch\n",
    "import transformers\n",
    "import numpy as np\n",
    "import pandas as pd\n",
    "\n",
    "from sklearn.model_selection import train_test_split\n",
    "from torch.utils.data import Dataset, DataLoader\n",
    "from transformers import AutoTokenizer, AutoModelForSeq2SeqLM, DataCollatorForSeq2Seq\n",
    "from transformers import AdamW\n",
    "from IPython.display import clear_output\n",
    "\n",
    "\n",
    "device = 'cuda'"
   ]
  },
  {
   "cell_type": "code",
   "execution_count": null,
   "id": "1a4fab6b",
   "metadata": {},
   "outputs": [],
   "source": []
  },
  {
   "cell_type": "code",
   "execution_count": 2,
   "id": "479e3d96",
   "metadata": {},
   "outputs": [],
   "source": [
    "model_checkpoint = \"t5-small\"\n",
    "tokenizer = AutoTokenizer.from_pretrained(model_checkpoint)\n"
   ]
  },
  {
   "cell_type": "code",
   "execution_count": 129,
   "id": "d5291983",
   "metadata": {
    "execution": {
     "iopub.execute_input": "2024-10-20T15:58:12.856155Z",
     "iopub.status.busy": "2024-10-20T15:58:12.855819Z",
     "iopub.status.idle": "2024-10-20T15:58:13.643533Z",
     "shell.execute_reply": "2024-10-20T15:58:13.642473Z",
     "shell.execute_reply.started": "2024-10-20T15:58:12.856120Z"
    }
   },
   "outputs": [],
   "source": [
    "model = AutoModelForSeq2SeqLM.from_pretrained(model_checkpoint)\n",
    "model = model.to(device)\n",
    "\n",
    "data_collator = DataCollatorForSeq2Seq(tokenizer, model=model)"
   ]
  },
  {
   "cell_type": "code",
   "execution_count": 130,
   "id": "9204cbbd",
   "metadata": {
    "execution": {
     "iopub.execute_input": "2024-10-20T15:58:13.645491Z",
     "iopub.status.busy": "2024-10-20T15:58:13.645098Z",
     "iopub.status.idle": "2024-10-20T15:58:13.677831Z",
     "shell.execute_reply": "2024-10-20T15:58:13.676833Z",
     "shell.execute_reply.started": "2024-10-20T15:58:13.645446Z"
    }
   },
   "outputs": [
    {
     "data": {
      "text/html": [
       "<div>\n",
       "<style scoped>\n",
       "    .dataframe tbody tr th:only-of-type {\n",
       "        vertical-align: middle;\n",
       "    }\n",
       "\n",
       "    .dataframe tbody tr th {\n",
       "        vertical-align: top;\n",
       "    }\n",
       "\n",
       "    .dataframe thead th {\n",
       "        text-align: right;\n",
       "    }\n",
       "</style>\n",
       "<table border=\"1\" class=\"dataframe\">\n",
       "  <thead>\n",
       "    <tr style=\"text-align: right;\">\n",
       "      <th></th>\n",
       "      <th>Math expression</th>\n",
       "      <th>Derivative</th>\n",
       "    </tr>\n",
       "  </thead>\n",
       "  <tbody>\n",
       "    <tr>\n",
       "      <th>0</th>\n",
       "      <td>sin(x + x)</td>\n",
       "      <td>2*cos(2*x)</td>\n",
       "    </tr>\n",
       "    <tr>\n",
       "      <th>1</th>\n",
       "      <td>sin(exp((sqrt(x))))</td>\n",
       "      <td>exp(sqrt(x))*cos(exp(sqrt(x)))/(2*sqrt(x))</td>\n",
       "    </tr>\n",
       "    <tr>\n",
       "      <th>2</th>\n",
       "      <td>exp(x) + sin(x)</td>\n",
       "      <td>exp(x) + cos(x)</td>\n",
       "    </tr>\n",
       "    <tr>\n",
       "      <th>3</th>\n",
       "      <td>--x</td>\n",
       "      <td>1</td>\n",
       "    </tr>\n",
       "    <tr>\n",
       "      <th>4</th>\n",
       "      <td>-x + sqrt(x)</td>\n",
       "      <td>-1 + 1/(2*sqrt(x))</td>\n",
       "    </tr>\n",
       "  </tbody>\n",
       "</table>\n",
       "</div>"
      ],
      "text/plain": [
       "       Math expression                                  Derivative\n",
       "0           sin(x + x)                                  2*cos(2*x)\n",
       "1  sin(exp((sqrt(x))))  exp(sqrt(x))*cos(exp(sqrt(x)))/(2*sqrt(x))\n",
       "2      exp(x) + sin(x)                             exp(x) + cos(x)\n",
       "3                  --x                                           1\n",
       "4         -x + sqrt(x)                          -1 + 1/(2*sqrt(x))"
      ]
     },
     "execution_count": 130,
     "metadata": {},
     "output_type": "execute_result"
    }
   ],
   "source": [
    "df = pd.read_csv(\"diff_data.csv\", sep = '\\t')\n",
    "df = df.dropna()\n",
    "df = df.reset_index(drop=True)\n",
    "df.head()"
   ]
  },
  {
   "cell_type": "code",
   "execution_count": 131,
   "id": "5610da0e",
   "metadata": {
    "execution": {
     "iopub.execute_input": "2024-10-20T15:58:13.681252Z",
     "iopub.status.busy": "2024-10-20T15:58:13.680952Z",
     "iopub.status.idle": "2024-10-20T15:58:13.687445Z",
     "shell.execute_reply": "2024-10-20T15:58:13.686382Z",
     "shell.execute_reply.started": "2024-10-20T15:58:13.681220Z"
    }
   },
   "outputs": [],
   "source": [
    "class CustomDataset(Dataset):\n",
    "    def __init__(self, datafr):\n",
    "        self.df = datafr\n",
    "\n",
    "    def __len__(self):\n",
    "        return len(self.df)\n",
    "\n",
    "    def __getitem__(self, idx):\n",
    "        \n",
    "        math_expr = self.df['Math expression'][idx]\n",
    "        label = self.df['Derivative'][idx]\n",
    "        \n",
    "        return {\"input_ids\": tokenizer(math_expr)[\"input_ids\"], \"labels\": tokenizer(label)[\"input_ids\"]}"
   ]
  },
  {
   "cell_type": "code",
   "execution_count": 132,
   "id": "4120d786",
   "metadata": {
    "execution": {
     "iopub.execute_input": "2024-10-20T15:58:13.689403Z",
     "iopub.status.busy": "2024-10-20T15:58:13.689031Z",
     "iopub.status.idle": "2024-10-20T15:58:13.704785Z",
     "shell.execute_reply": "2024-10-20T15:58:13.703854Z",
     "shell.execute_reply.started": "2024-10-20T15:58:13.689361Z"
    }
   },
   "outputs": [
    {
     "data": {
      "text/html": [
       "<div>\n",
       "<style scoped>\n",
       "    .dataframe tbody tr th:only-of-type {\n",
       "        vertical-align: middle;\n",
       "    }\n",
       "\n",
       "    .dataframe tbody tr th {\n",
       "        vertical-align: top;\n",
       "    }\n",
       "\n",
       "    .dataframe thead th {\n",
       "        text-align: right;\n",
       "    }\n",
       "</style>\n",
       "<table border=\"1\" class=\"dataframe\">\n",
       "  <thead>\n",
       "    <tr style=\"text-align: right;\">\n",
       "      <th></th>\n",
       "      <th>Math expression</th>\n",
       "      <th>Derivative</th>\n",
       "    </tr>\n",
       "  </thead>\n",
       "  <tbody>\n",
       "    <tr>\n",
       "      <th>0</th>\n",
       "      <td>(-x / 4)</td>\n",
       "      <td>-1/4</td>\n",
       "    </tr>\n",
       "    <tr>\n",
       "      <th>1</th>\n",
       "      <td>-x * -x - sqrt(x + x)</td>\n",
       "      <td>2*x - sqrt(2)/(2*sqrt(x))</td>\n",
       "    </tr>\n",
       "    <tr>\n",
       "      <th>2</th>\n",
       "      <td>--8 / x / -4</td>\n",
       "      <td>2/x**2</td>\n",
       "    </tr>\n",
       "    <tr>\n",
       "      <th>3</th>\n",
       "      <td>sqrt(x - 6) * sqrt(sqrt(1))</td>\n",
       "      <td>1/(2*sqrt(x - 6))</td>\n",
       "    </tr>\n",
       "    <tr>\n",
       "      <th>4</th>\n",
       "      <td>ln(sqrt(x)) * -x / x</td>\n",
       "      <td>-1/(2*x)</td>\n",
       "    </tr>\n",
       "    <tr>\n",
       "      <th>...</th>\n",
       "      <td>...</td>\n",
       "      <td>...</td>\n",
       "    </tr>\n",
       "    <tr>\n",
       "      <th>10291</th>\n",
       "      <td>cos(2 + x / x / x)</td>\n",
       "      <td>sin(2 + 1/x)/x**2</td>\n",
       "    </tr>\n",
       "    <tr>\n",
       "      <th>10292</th>\n",
       "      <td>cos(x * x) / -sin(x)</td>\n",
       "      <td>2*x*sin(x**2)/sin(x) + cos(x)*cos(x**2)/sin(x)**2</td>\n",
       "    </tr>\n",
       "    <tr>\n",
       "      <th>10293</th>\n",
       "      <td>-x + 6 / ln(x) - sqrt(cos(x)) - -x / -x</td>\n",
       "      <td>sin(x)/(2*sqrt(cos(x))) - 1 - 6/(x*log(x)**2)</td>\n",
       "    </tr>\n",
       "    <tr>\n",
       "      <th>10294</th>\n",
       "      <td>x / x * sin(x)</td>\n",
       "      <td>cos(x)</td>\n",
       "    </tr>\n",
       "    <tr>\n",
       "      <th>10295</th>\n",
       "      <td>sqrt(-x * x - x - x + -x)</td>\n",
       "      <td>(-x - 3/2)/sqrt(-x**2 - 3*x)</td>\n",
       "    </tr>\n",
       "  </tbody>\n",
       "</table>\n",
       "<p>10296 rows × 2 columns</p>\n",
       "</div>"
      ],
      "text/plain": [
       "                               Math expression  \\\n",
       "0                                     (-x / 4)   \n",
       "1                        -x * -x - sqrt(x + x)   \n",
       "2                                 --8 / x / -4   \n",
       "3                  sqrt(x - 6) * sqrt(sqrt(1))   \n",
       "4                         ln(sqrt(x)) * -x / x   \n",
       "...                                        ...   \n",
       "10291                       cos(2 + x / x / x)   \n",
       "10292                     cos(x * x) / -sin(x)   \n",
       "10293  -x + 6 / ln(x) - sqrt(cos(x)) - -x / -x   \n",
       "10294                           x / x * sin(x)   \n",
       "10295                sqrt(-x * x - x - x + -x)   \n",
       "\n",
       "                                              Derivative  \n",
       "0                                                   -1/4  \n",
       "1                              2*x - sqrt(2)/(2*sqrt(x))  \n",
       "2                                                 2/x**2  \n",
       "3                                      1/(2*sqrt(x - 6))  \n",
       "4                                               -1/(2*x)  \n",
       "...                                                  ...  \n",
       "10291                                  sin(2 + 1/x)/x**2  \n",
       "10292  2*x*sin(x**2)/sin(x) + cos(x)*cos(x**2)/sin(x)**2  \n",
       "10293      sin(x)/(2*sqrt(cos(x))) - 1 - 6/(x*log(x)**2)  \n",
       "10294                                             cos(x)  \n",
       "10295                       (-x - 3/2)/sqrt(-x**2 - 3*x)  \n",
       "\n",
       "[10296 rows x 2 columns]"
      ]
     },
     "execution_count": 132,
     "metadata": {},
     "output_type": "execute_result"
    }
   ],
   "source": [
    "train_data, test_data = train_test_split(df, test_size = 0.15, random_state=42)\n",
    "train_data = train_data.reset_index(drop=True)\n",
    "test_data = test_data.reset_index(drop=True)\n",
    "train_data"
   ]
  },
  {
   "cell_type": "code",
   "execution_count": 133,
   "id": "4df915ad",
   "metadata": {
    "execution": {
     "iopub.execute_input": "2024-10-20T15:58:13.706538Z",
     "iopub.status.busy": "2024-10-20T15:58:13.706196Z",
     "iopub.status.idle": "2024-10-20T15:58:13.710978Z",
     "shell.execute_reply": "2024-10-20T15:58:13.710016Z",
     "shell.execute_reply.started": "2024-10-20T15:58:13.706497Z"
    }
   },
   "outputs": [],
   "source": [
    "train_dataset = CustomDataset(train_data)\n",
    "test_dataset = CustomDataset(test_data)"
   ]
  },
  {
   "cell_type": "code",
   "execution_count": 134,
   "id": "a583334d",
   "metadata": {
    "execution": {
     "iopub.execute_input": "2024-10-20T15:58:13.713174Z",
     "iopub.status.busy": "2024-10-20T15:58:13.712394Z",
     "iopub.status.idle": "2024-10-20T15:58:13.756311Z",
     "shell.execute_reply": "2024-10-20T15:58:13.755364Z",
     "shell.execute_reply.started": "2024-10-20T15:58:13.713119Z"
    }
   },
   "outputs": [],
   "source": [
    "batch_size = 32\n",
    "test_dataloader = DataLoader(test_dataset,collate_fn = data_collator,  batch_size=batch_size)\n",
    "train_dataloader = DataLoader(train_dataset,collate_fn = data_collator, batch_size=batch_size)"
   ]
  },
  {
   "cell_type": "code",
   "execution_count": 135,
   "id": "9df16d2a",
   "metadata": {
    "execution": {
     "iopub.execute_input": "2024-10-20T15:58:13.758519Z",
     "iopub.status.busy": "2024-10-20T15:58:13.758082Z",
     "iopub.status.idle": "2024-10-20T15:58:13.771777Z",
     "shell.execute_reply": "2024-10-20T15:58:13.770974Z",
     "shell.execute_reply.started": "2024-10-20T15:58:13.758485Z"
    }
   },
   "outputs": [
    {
     "name": "stderr",
     "output_type": "stream",
     "text": [
      "/opt/conda/lib/python3.10/site-packages/transformers/optimization.py:591: FutureWarning: This implementation of AdamW is deprecated and will be removed in a future version. Use the PyTorch implementation torch.optim.AdamW instead, or set `no_deprecation_warning=True` to disable this warning\n",
      "  warnings.warn(\n"
     ]
    }
   ],
   "source": [
    "optimizer = AdamW(model.parameters(), lr=3e-4)\n",
    "num_train_epochs = 20\n"
   ]
  },
  {
   "cell_type": "code",
   "execution_count": 136,
   "id": "aa083a07",
   "metadata": {
    "execution": {
     "iopub.execute_input": "2024-10-20T15:58:13.773252Z",
     "iopub.status.busy": "2024-10-20T15:58:13.772830Z",
     "iopub.status.idle": "2024-10-20T16:11:40.715688Z",
     "shell.execute_reply": "2024-10-20T16:11:40.714737Z",
     "shell.execute_reply.started": "2024-10-20T15:58:13.773206Z"
    }
   },
   "outputs": [
    {
     "data": {
      "image/png": "[encoded data removed]",
      "text/plain": [
       "<Figure size 1000x500 with 1 Axes>"
      ]
     },
     "metadata": {},
     "output_type": "display_data"
    },
    {
     "name": "stdout",
     "output_type": "stream",
     "text": [
      "Epoch 20 | Train Loss: 0.1426 | Test Loss: 0.1829\n"
     ]
    }
   ],
   "source": [
    "train_losses = []\n",
    "test_losses = []\n",
    "\n",
    "for epoch in range(num_train_epochs):\n",
    "    \n",
    "    # Обучение\n",
    "    model.train()\n",
    "    loss_on_batches = []\n",
    "    for i, batch in enumerate(tqdm.notebook.tqdm(train_dataloader)):\n",
    "        \n",
    "        batch = {k: v.to(device) for k, v in batch.items()}\n",
    "        outputs = model(**batch)\n",
    "        loss = outputs.loss\n",
    "        loss.backward()\n",
    "        loss_on_batches.append(loss.item())\n",
    "        \n",
    "        optimizer.step()\n",
    "        optimizer.zero_grad()\n",
    "\n",
    "    \n",
    "    avg_train_loss = sum(loss_on_batches) / len(loss_on_batches)\n",
    "    train_losses.append(avg_train_loss)\n",
    "\n",
    "    \n",
    "    model.eval()\n",
    "    loss_on_batches = []\n",
    "    for batch in tqdm.notebook.tqdm(test_dataloader):\n",
    "        batch = {k: v.to(device) for k, v in batch.items()}\n",
    "        with torch.no_grad():\n",
    "            outputs = model(**batch)\n",
    "        loss = outputs.loss\n",
    "        loss_on_batches.append(loss.item())\n",
    "        \n",
    "    \n",
    "    avg_test_loss = sum(loss_on_batches) / len(loss_on_batches)\n",
    "    test_losses.append(avg_test_loss)\n",
    "\n",
    "    \n",
    "\n",
    "    \n",
    "    clear_output(wait=True) \n",
    "    plt.figure(figsize=(10, 5))\n",
    "    plt.plot(range(1, epoch + 2), train_losses, label='Train Loss')\n",
    "    plt.plot(range(1, epoch + 2), test_losses, label='Test Loss')\n",
    "    plt.xlabel('Epoch')\n",
    "    plt.ylabel('Loss')\n",
    "    plt.title('Training and Testing Loss Over Epochs')\n",
    "    plt.legend()\n",
    "    plt.grid(True)\n",
    "    plt.show()\n",
    "    print(f\"Epoch {epoch+1} | Train Loss: {avg_train_loss:.4f} | Test Loss: {avg_test_loss:.4f}\")\n"
   ]
  },
  {
   "cell_type": "code",
   "execution_count": 137,
   "id": "88882468",
   "metadata": {
    "execution": {
     "iopub.execute_input": "2024-10-20T16:11:40.718660Z",
     "iopub.status.busy": "2024-10-20T16:11:40.718336Z",
     "iopub.status.idle": "2024-10-20T16:11:40.725056Z",
     "shell.execute_reply": "2024-10-20T16:11:40.724141Z",
     "shell.execute_reply.started": "2024-10-20T16:11:40.718624Z"
    }
   },
   "outputs": [],
   "source": [
    "def make_pred(model, expr):\n",
    "    with torch.no_grad():\n",
    "        preds = model.generate(input_ids = torch.tensor(tokenizer(expr)[\"input_ids\"]).to(device).view(1,-1))\n",
    "    tokenizer.decode(np.array(preds.cpu()[0]))\n",
    "    generated_text = tokenizer.decode(np.array(preds.cpu()[0]))\n",
    "    return generated_text.replace('<pad>', '').replace('</s>', '') "
   ]
  },
  {
   "cell_type": "code",
   "execution_count": 144,
   "id": "b00def12",
   "metadata": {
    "execution": {
     "iopub.execute_input": "2024-10-20T16:12:33.806541Z",
     "iopub.status.busy": "2024-10-20T16:12:33.806133Z",
     "iopub.status.idle": "2024-10-20T16:12:33.865888Z",
     "shell.execute_reply": "2024-10-20T16:12:33.865028Z",
     "shell.execute_reply.started": "2024-10-20T16:12:33.806501Z"
    }
   },
   "outputs": [
    {
     "data": {
      "text/plain": [
       "' 2*x'"
      ]
     },
     "execution_count": 144,
     "metadata": {},
     "output_type": "execute_result"
    }
   ],
   "source": [
    "make_pred(model, 'x*x')"
   ]
  },
  {
   "cell_type": "code",
   "execution_count": 145,
   "id": "5edea8b3",
   "metadata": {
    "execution": {
     "iopub.execute_input": "2024-10-20T16:12:54.479755Z",
     "iopub.status.busy": "2024-10-20T16:12:54.479384Z",
     "iopub.status.idle": "2024-10-20T16:12:54.628208Z",
     "shell.execute_reply": "2024-10-20T16:12:54.627292Z",
     "shell.execute_reply.started": "2024-10-20T16:12:54.479722Z"
    }
   },
   "outputs": [
    {
     "data": {
      "text/plain": [
       "' 2*x + 2*exp(2*x)'"
      ]
     },
     "execution_count": 145,
     "metadata": {},
     "output_type": "execute_result"
    }
   ],
   "source": [
    "make_pred(model, ' x*x + exp(2*x)')"
   ]
  },
  {
   "cell_type": "code",
   "execution_count": 146,
   "id": "6c1e7f2c",
   "metadata": {
    "execution": {
     "iopub.execute_input": "2024-10-20T16:13:11.098827Z",
     "iopub.status.busy": "2024-10-20T16:13:11.098191Z",
     "iopub.status.idle": "2024-10-20T16:13:11.289431Z",
     "shell.execute_reply": "2024-10-20T16:13:11.288541Z",
     "shell.execute_reply.started": "2024-10-20T16:13:11.098790Z"
    }
   },
   "outputs": [
    {
     "data": {
      "text/plain": [
       "' 2*x + 2*exp(2*x) + cos(x)'"
      ]
     },
     "execution_count": 146,
     "metadata": {},
     "output_type": "execute_result"
    }
   ],
   "source": [
    "make_pred(model, ' x*x + exp(2*x) + sin(x)')"
   ]
  },
  {
   "cell_type": "code",
   "execution_count": 149,
   "id": "77405e46",
   "metadata": {
    "execution": {
     "iopub.execute_input": "2024-10-20T16:14:03.704057Z",
     "iopub.status.busy": "2024-10-20T16:14:03.703568Z",
     "iopub.status.idle": "2024-10-20T16:14:03.926042Z",
     "shell.execute_reply": "2024-10-20T16:14:03.925095Z",
     "shell.execute_reply.started": "2024-10-20T16:14:03.704009Z"
    }
   },
   "outputs": [
    {
     "data": {
      "text/plain": [
       "' 2*x - sin(x)*cos(cos(x))'"
      ]
     },
     "execution_count": 149,
     "metadata": {},
     "output_type": "execute_result"
    }
   ],
   "source": [
    "make_pred(model, ' x*x + exp(2*x) + sin(cos(x))') # тут ошибся"
   ]
  },
  {
   "cell_type": "code",
   "execution_count": null,
   "id": "ba646a48",
   "metadata": {},
   "outputs": [],
   "source": []
  }
 ],
 "metadata": {
  "kaggle": {
   "accelerator": "gpu",
   "dataSources": [
    {
     "datasetId": 5913539,
     "sourceId": 9675802,
     "sourceType": "datasetVersion"
    }
   ],
   "dockerImageVersionId": 30787,
   "isGpuEnabled": true,
   "isInternetEnabled": true,
   "language": "python",
   "sourceType": "notebook"
  },
  "kernelspec": {
   "display_name": "Python 3 (ipykernel)",
   "language": "python",
   "name": "python3"
  },
  "language_info": {
   "codemirror_mode": {
    "name": "ipython",
    "version": 3
   },
   "file_extension": ".py",
   "mimetype": "text/x-python",
   "name": "python",
   "nbconvert_exporter": "python",
   "pygments_lexer": "ipython3",
   "version": "3.12.3"
  }
 },
 "nbformat": 4,
 "nbformat_minor": 5
}
